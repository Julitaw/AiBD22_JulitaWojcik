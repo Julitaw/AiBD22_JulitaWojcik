{
 "cells": [
  {
   "cell_type": "markdown",
   "id": "ad565760",
   "metadata": {},
   "source": [
    "Julita Wójcik,\n",
    "nr indeksu: 406282,\n",
    "gr.lab.  3 \n",
    "\n",
    "Zajęcia - piątek godz. 9.30\n",
    "\n",
    "Zadanie 3"
   ]
  },
  {
   "cell_type": "code",
   "execution_count": 1,
   "id": "cd247189",
   "metadata": {},
   "outputs": [
    {
     "data": {
      "image/png": "[encoded data removed]",
      "text/plain": [
       "<Figure size 432x288 with 1 Axes>"
      ]
     },
     "metadata": {
      "needs_background": "light"
     },
     "output_type": "display_data"
    }
   ],
   "source": [
    "# importowanie potrzebnych bibliotek\n",
    "\n",
    "import matplotlib.pyplot as plt\n",
    "import numpy as np\n",
    "import pandas as pd\n",
    "\n",
    "\n",
    "# wykorzystanie lambdy - 'anonimowej funkcji'  do zdefiniowania wzoru funkcji\n",
    "fun1 = lambda x : x**2+5\n",
    "\n",
    "\n",
    "# utworzenie tablic równomiernie rozmieszczonych liczby w zadanym przedziale ( num - liczba punktów)\n",
    "arg1 = np.linspace(-1,1, num=1000)\n",
    "arg2 = np.linspace(-6,6, num=1000)\n",
    "arg3 = np.linspace(0,5, num=1000)\n",
    "\n",
    "# utworzenie 3 wykresów - ustawienie koloru, legendy (label) i grubości lin w celu rozróżnienia wykresów)\n",
    "plt.plot(arg1, fun1(arg1), color='r', label=\"(-1, 1)\", linewidth=5)\n",
    "plt.plot(arg2, fun1(arg2), color='g', label='(-6, 6)')\n",
    "plt.plot(arg3, fun1(arg3), color='b', label='(0, 5)', linewidth=3)\n",
    "\n",
    "# podpisanie osi\n",
    "plt.xlabel(\"x\")\n",
    "plt.ylabel(\"y\")\n",
    "\n",
    "# ustawienie tytułu \n",
    "plt.title( r'Wykres funkcji $x^{2}+5$ dla różnego zestawu argumentów', fontsize=15)\n",
    "\n",
    "# ustawienie legendy\n",
    "plt.legend()\n",
    "\n",
    "# ustawienie siatki\n",
    "plt.grid()\n",
    "#wyświetlenie osi \n",
    "plt.show()"
   ]
  },
  {
   "cell_type": "markdown",
   "id": "5f9384e7",
   "metadata": {},
   "source": [
    "Zadanie 4"
   ]
  },
  {
   "cell_type": "code",
   "execution_count": 2,
   "id": "59723021",
   "metadata": {},
   "outputs": [
    {
     "data": {
      "text/html": [
       "<style type=\"text/css\">\n",
       "#T_5df4c th {\n",
       "  text-align: center;\n",
       "}\n",
       "#T_5df4c_row0_col0, #T_5df4c_row0_col1, #T_5df4c_row0_col2, #T_5df4c_row0_col3, #T_5df4c_row1_col0, #T_5df4c_row1_col1, #T_5df4c_row1_col2, #T_5df4c_row1_col3, #T_5df4c_row2_col0, #T_5df4c_row2_col1, #T_5df4c_row2_col2, #T_5df4c_row2_col3, #T_5df4c_row3_col0, #T_5df4c_row3_col1, #T_5df4c_row3_col2, #T_5df4c_row3_col3, #T_5df4c_row4_col0, #T_5df4c_row4_col1, #T_5df4c_row4_col2, #T_5df4c_row4_col3 {\n",
       "  text-align: center;\n",
       "}\n",
       "</style>\n",
       "<table id=\"T_5df4c\">\n",
       "  <thead>\n",
       "    <tr>\n",
       "      <th class=\"blank level0\" >&nbsp;</th>\n",
       "      <th id=\"T_5df4c_level0_col0\" class=\"col_heading level0 col0\" >name</th>\n",
       "      <th id=\"T_5df4c_level0_col1\" class=\"col_heading level0 col1\" >surname</th>\n",
       "      <th id=\"T_5df4c_level0_col2\" class=\"col_heading level0 col2\" >age</th>\n",
       "      <th id=\"T_5df4c_level0_col3\" class=\"col_heading level0 col3\" >sex</th>\n",
       "    </tr>\n",
       "  </thead>\n",
       "  <tbody>\n",
       "    <tr>\n",
       "      <th id=\"T_5df4c_level0_row0\" class=\"row_heading level0 row0\" >0</th>\n",
       "      <td id=\"T_5df4c_row0_col0\" class=\"data row0 col0\" >Alan</td>\n",
       "      <td id=\"T_5df4c_row0_col1\" class=\"data row0 col1\" >Kot</td>\n",
       "      <td id=\"T_5df4c_row0_col2\" class=\"data row0 col2\" >34</td>\n",
       "      <td id=\"T_5df4c_row0_col3\" class=\"data row0 col3\" >K</td>\n",
       "    </tr>\n",
       "    <tr>\n",
       "      <th id=\"T_5df4c_level0_row1\" class=\"row_heading level0 row1\" >1</th>\n",
       "      <td id=\"T_5df4c_row1_col0\" class=\"data row1 col0\" >Ala</td>\n",
       "      <td id=\"T_5df4c_row1_col1\" class=\"data row1 col1\" >Kruk</td>\n",
       "      <td id=\"T_5df4c_row1_col2\" class=\"data row1 col2\" >45</td>\n",
       "      <td id=\"T_5df4c_row1_col3\" class=\"data row1 col3\" >K</td>\n",
       "    </tr>\n",
       "    <tr>\n",
       "      <th id=\"T_5df4c_level0_row2\" class=\"row_heading level0 row2\" >2</th>\n",
       "      <td id=\"T_5df4c_row2_col0\" class=\"data row2 col0\" >Oskar</td>\n",
       "      <td id=\"T_5df4c_row2_col1\" class=\"data row2 col1\" >Osa</td>\n",
       "      <td id=\"T_5df4c_row2_col2\" class=\"data row2 col2\" >56</td>\n",
       "      <td id=\"T_5df4c_row2_col3\" class=\"data row2 col3\" >M</td>\n",
       "    </tr>\n",
       "    <tr>\n",
       "      <th id=\"T_5df4c_level0_row3\" class=\"row_heading level0 row3\" >3</th>\n",
       "      <td id=\"T_5df4c_row3_col0\" class=\"data row3 col0\" >Jan</td>\n",
       "      <td id=\"T_5df4c_row3_col1\" class=\"data row3 col1\" >Wrona</td>\n",
       "      <td id=\"T_5df4c_row3_col2\" class=\"data row3 col2\" >45</td>\n",
       "      <td id=\"T_5df4c_row3_col3\" class=\"data row3 col3\" >M</td>\n",
       "    </tr>\n",
       "    <tr>\n",
       "      <th id=\"T_5df4c_level0_row4\" class=\"row_heading level0 row4\" >4</th>\n",
       "      <td id=\"T_5df4c_row4_col0\" class=\"data row4 col0\" >Ala</td>\n",
       "      <td id=\"T_5df4c_row4_col1\" class=\"data row4 col1\" >Lis</td>\n",
       "      <td id=\"T_5df4c_row4_col2\" class=\"data row4 col2\" >78</td>\n",
       "      <td id=\"T_5df4c_row4_col3\" class=\"data row4 col3\" >M</td>\n",
       "    </tr>\n",
       "  </tbody>\n",
       "</table>\n"
      ],
      "text/plain": [
       "<pandas.io.formats.style.Styler at 0x22748758580>"
      ]
     },
     "execution_count": 2,
     "metadata": {},
     "output_type": "execute_result"
    }
   ],
   "source": [
    "# wykonanie 5 list z opisem osób\n",
    "\n",
    "os1 = ['Alan','Kot','34','K']\n",
    "os2 = ['Ala','Kruk','45','K']\n",
    "os3 = ['Oskar','Osa','56','M']\n",
    "os4 = ['Jan','Wrona','45','M']\n",
    "os5 = ['Ala','Lis','78','M']\n",
    "\n",
    "# dodanie ich do wspólnej tablicy\n",
    "tab_os=[os1,os2,os3,os4,os5]\n",
    "\n",
    "# utworzenie dataframe'u - wykorzystanie sposobu - 'Konstruowanie DataFrame z numpy ndarray'\n",
    "df = pd.DataFrame(np.array(tab_os),\n",
    "                   columns=['name','surname','age','sex'])\n",
    "\n",
    "# wyśrodkowanie dataframe'u w celach lepszej czytelności\n",
    "df1 = df.style.set_table_styles([dict(selector='th', props=[('text-align', 'center')])])\n",
    "df1.set_properties(**{'text-align': 'center'})"
   ]
  },
  {
   "cell_type": "code",
   "execution_count": 3,
   "id": "e228966d",
   "metadata": {},
   "outputs": [
    {
     "name": "stdout",
     "output_type": "stream",
     "text": [
      "<class 'pandas.core.frame.DataFrame'>\n",
      "RangeIndex: 5 entries, 0 to 4\n",
      "Data columns (total 4 columns):\n",
      " #   Column   Non-Null Count  Dtype \n",
      "---  ------   --------------  ----- \n",
      " 0   name     5 non-null      object\n",
      " 1   surname  5 non-null      object\n",
      " 2   age      5 non-null      object\n",
      " 3   sex      5 non-null      object\n",
      "dtypes: object(4)\n",
      "memory usage: 288.0+ bytes\n"
     ]
    }
   ],
   "source": [
    "df.info(verbose=True)"
   ]
  },
  {
   "cell_type": "markdown",
   "id": "46a16de7",
   "metadata": {},
   "source": [
    "Ta metoda pozwala na uzyskanie informacji o DataFrame, w tym indeks dtype, nazwy kolumn, ilość obiektów w kolumnach innych niż null i użycie pamięci."
   ]
  },
  {
   "cell_type": "code",
   "execution_count": 4,
   "id": "2c28a5bd",
   "metadata": {},
   "outputs": [
    {
     "data": {
      "text/html": [
       "<div>\n",
       "<style scoped>\n",
       "    .dataframe tbody tr th:only-of-type {\n",
       "        vertical-align: middle;\n",
       "    }\n",
       "\n",
       "    .dataframe tbody tr th {\n",
       "        vertical-align: top;\n",
       "    }\n",
       "\n",
       "    .dataframe thead th {\n",
       "        text-align: right;\n",
       "    }\n",
       "</style>\n",
       "<table border=\"1\" class=\"dataframe\">\n",
       "  <thead>\n",
       "    <tr style=\"text-align: right;\">\n",
       "      <th></th>\n",
       "      <th>name</th>\n",
       "      <th>surname</th>\n",
       "      <th>age</th>\n",
       "      <th>sex</th>\n",
       "    </tr>\n",
       "  </thead>\n",
       "  <tbody>\n",
       "    <tr>\n",
       "      <th>count</th>\n",
       "      <td>5</td>\n",
       "      <td>5</td>\n",
       "      <td>5</td>\n",
       "      <td>5</td>\n",
       "    </tr>\n",
       "    <tr>\n",
       "      <th>unique</th>\n",
       "      <td>4</td>\n",
       "      <td>5</td>\n",
       "      <td>4</td>\n",
       "      <td>2</td>\n",
       "    </tr>\n",
       "    <tr>\n",
       "      <th>top</th>\n",
       "      <td>Ala</td>\n",
       "      <td>Kot</td>\n",
       "      <td>45</td>\n",
       "      <td>M</td>\n",
       "    </tr>\n",
       "    <tr>\n",
       "      <th>freq</th>\n",
       "      <td>2</td>\n",
       "      <td>1</td>\n",
       "      <td>2</td>\n",
       "      <td>3</td>\n",
       "    </tr>\n",
       "  </tbody>\n",
       "</table>\n",
       "</div>"
      ],
      "text/plain": [
       "       name surname age sex\n",
       "count     5       5   5   5\n",
       "unique    4       5   4   2\n",
       "top     Ala     Kot  45   M\n",
       "freq      2       1   2   3"
      ]
     },
     "execution_count": 4,
     "metadata": {},
     "output_type": "execute_result"
    }
   ],
   "source": [
    "df.describe()"
   ]
  },
  {
   "cell_type": "markdown",
   "id": "8a855274",
   "metadata": {},
   "source": [
    "'df.describe' generuje statystyki opisowe.\n",
    "Statystyki podsumowują dane występujące w dataframe. Pierwszy wers 'count' odpowiada za ilośc danych w poszczególnych kolumnach, następny 'unique' za ilośc niepowtarzalnych elementów, trzeci 'top' za najczęściej występujące elementy , ostatni 'freq' za częsototliwość występowania elementów z 'top'\n",
    "Opis z wyłączeniem NaNwartości."
   ]
  },
  {
   "cell_type": "code",
   "execution_count": 5,
   "id": "561c1537",
   "metadata": {},
   "outputs": [
    {
     "data": {
      "text/html": [
       "<div>\n",
       "<style scoped>\n",
       "    .dataframe tbody tr th:only-of-type {\n",
       "        vertical-align: middle;\n",
       "    }\n",
       "\n",
       "    .dataframe tbody tr th {\n",
       "        vertical-align: top;\n",
       "    }\n",
       "\n",
       "    .dataframe thead th {\n",
       "        text-align: right;\n",
       "    }\n",
       "</style>\n",
       "<table border=\"1\" class=\"dataframe\">\n",
       "  <thead>\n",
       "    <tr style=\"text-align: right;\">\n",
       "      <th></th>\n",
       "      <th>name</th>\n",
       "      <th>surname</th>\n",
       "      <th>age</th>\n",
       "      <th>sex</th>\n",
       "    </tr>\n",
       "  </thead>\n",
       "  <tbody>\n",
       "    <tr>\n",
       "      <th>0</th>\n",
       "      <td>Alan</td>\n",
       "      <td>Kot</td>\n",
       "      <td>34</td>\n",
       "      <td>K</td>\n",
       "    </tr>\n",
       "    <tr>\n",
       "      <th>1</th>\n",
       "      <td>Ala</td>\n",
       "      <td>Kruk</td>\n",
       "      <td>45</td>\n",
       "      <td>K</td>\n",
       "    </tr>\n",
       "    <tr>\n",
       "      <th>2</th>\n",
       "      <td>Oskar</td>\n",
       "      <td>Osa</td>\n",
       "      <td>56</td>\n",
       "      <td>M</td>\n",
       "    </tr>\n",
       "  </tbody>\n",
       "</table>\n",
       "</div>"
      ],
      "text/plain": [
       "    name surname age sex\n",
       "0   Alan     Kot  34   K\n",
       "1    Ala    Kruk  45   K\n",
       "2  Oskar     Osa  56   M"
      ]
     },
     "execution_count": 5,
     "metadata": {},
     "output_type": "execute_result"
    }
   ],
   "source": [
    "df.head(3)"
   ]
  },
  {
   "cell_type": "markdown",
   "id": "482c4ade",
   "metadata": {},
   "source": [
    "Ta metoda 'df.head(x)' pozwala na uzyskanie x pierwszych rekordow."
   ]
  },
  {
   "cell_type": "code",
   "execution_count": 6,
   "id": "5ccfd113",
   "metadata": {},
   "outputs": [
    {
     "data": {
      "text/html": [
       "<div>\n",
       "<style scoped>\n",
       "    .dataframe tbody tr th:only-of-type {\n",
       "        vertical-align: middle;\n",
       "    }\n",
       "\n",
       "    .dataframe tbody tr th {\n",
       "        vertical-align: top;\n",
       "    }\n",
       "\n",
       "    .dataframe thead th {\n",
       "        text-align: right;\n",
       "    }\n",
       "</style>\n",
       "<table border=\"1\" class=\"dataframe\">\n",
       "  <thead>\n",
       "    <tr style=\"text-align: right;\">\n",
       "      <th></th>\n",
       "      <th>name</th>\n",
       "      <th>surname</th>\n",
       "      <th>age</th>\n",
       "      <th>sex</th>\n",
       "    </tr>\n",
       "  </thead>\n",
       "  <tbody>\n",
       "    <tr>\n",
       "      <th>0</th>\n",
       "      <td>Alan</td>\n",
       "      <td>Kot</td>\n",
       "      <td>34</td>\n",
       "      <td>K</td>\n",
       "    </tr>\n",
       "    <tr>\n",
       "      <th>1</th>\n",
       "      <td>Ala</td>\n",
       "      <td>Kruk</td>\n",
       "      <td>45</td>\n",
       "      <td>K</td>\n",
       "    </tr>\n",
       "  </tbody>\n",
       "</table>\n",
       "</div>"
      ],
      "text/plain": [
       "   name surname age sex\n",
       "0  Alan     Kot  34   K\n",
       "1   Ala    Kruk  45   K"
      ]
     },
     "execution_count": 6,
     "metadata": {},
     "output_type": "execute_result"
    }
   ],
   "source": [
    "df.head(-3)"
   ]
  },
  {
   "cell_type": "markdown",
   "id": "73c9d902",
   "metadata": {},
   "source": [
    "Ta metoda 'df.head(-x)' pozwala na uzyskanie rekordów prócz x ostatnich."
   ]
  },
  {
   "cell_type": "code",
   "execution_count": null,
   "id": "ed43aa93",
   "metadata": {},
   "outputs": [],
   "source": []
  }
 ],
 "metadata": {
  "kernelspec": {
   "display_name": "Python 3 (ipykernel)",
   "language": "python",
   "name": "python3"
  },
  "language_info": {
   "codemirror_mode": {
    "name": "ipython",
    "version": 3
   },
   "file_extension": ".py",
   "mimetype": "text/x-python",
   "name": "python",
   "nbconvert_exporter": "python",
   "pygments_lexer": "ipython3",
   "version": "3.9.12"
  }
 },
 "nbformat": 4,
 "nbformat_minor": 5
}
